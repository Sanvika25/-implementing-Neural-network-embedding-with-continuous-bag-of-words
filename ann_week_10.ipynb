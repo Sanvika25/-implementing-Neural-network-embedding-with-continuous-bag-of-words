{
  "nbformat": 4,
  "nbformat_minor": 0,
  "metadata": {
    "colab": {
      "provenance": [],
      "include_colab_link": true
    },
    "kernelspec": {
      "name": "python3",
      "display_name": "Python 3"
    },
    "language_info": {
      "name": "python"
    }
  },
  "cells": [
    {
      "cell_type": "markdown",
      "metadata": {
        "id": "view-in-github",
        "colab_type": "text"
      },
      "source": [
        "<a href=\"https://colab.research.google.com/github/Sanvika25/-implementing-Neural-network-embedding-with-continuous-bag-of-words/blob/main/ann_week_10.ipynb\" target=\"_parent\"><img src=\"https://colab.research.google.com/assets/colab-badge.svg\" alt=\"Open In Colab\"/></a>"
      ]
    },
    {
      "cell_type": "code",
      "execution_count": null,
      "metadata": {
        "id": "IrmA3eaj3kF0"
      },
      "outputs": [],
      "source": [
        "faqs = \"\"\"About the Program\n",
        "What is the course fee for  Data Science Mentorship Program (DSMP 2023)\n",
        "The course follows a monthly subscription model where you have to make monthly payments of Rs 799/month.\n",
        "What is the total duration of the course?\n",
        "The total duration of the course is 7 months. So the total course fee becomes 799*7 = Rs 5600(approx.)\n",
        "What is the syllabus of the mentorship program?\n",
        "We will be covering the following modules:\n",
        "Python Fundamentals\n",
        "Python libraries for Data Science\n",
        "Data Analysis\n",
        "SQL for Data Science\n",
        "Maths for Machine Learning\n",
        "ML Algorithms\n",
        "Practical ML\n",
        "MLOPs\n",
        "Case studies\n",
        "You can check the detailed syllabus here - https://learnwith.campusx.in/courses/CampusX-Data-Science-Mentorship-Program-637339afe4b0615a1bbed390\n",
        "Will Deep Learning and NLP be a part of this program?\n",
        "No, NLP and Deep Learning both are not a part of this program’s curriculum.\n",
        "What if I miss a live session? Will I get a recording of the session?\n",
        "Yes all our sessions are recorded, so even if you miss a session you can go back and watch the recording.\n",
        "Where can I find the class schedule?\n",
        "Checkout this google sheet to see month by month time table of the course - https://docs.google.com/spreadsheets/d/16OoTax_A6ORAeCg4emgexhqqPv3noQPYKU7RJ6ArOzk/edit?usp=sharing.\n",
        "What is the time duration of all the live sessions?\n",
        "Roughly, all the sessions last 2 hours.\n",
        "What is the language spoken by the instructor during the sessions?\n",
        "Hinglish\n",
        "How will I be informed about the upcoming class?\n",
        "You will get a mail from our side before every paid session once you become a paid user.\n",
        "Can I do this course if I am from a non-tech background?\n",
        "Yes, absolutely.\n",
        "I am late, can I join the program in the middle?\n",
        "Absolutely, you can join the program anytime.\n",
        "If I join/pay in the middle, will I be able to see all the past lectures?\n",
        "Yes, once you make the payment you will be able to see all the past content in your dashboard.\n",
        "Where do I have to submit the task?\n",
        "You don’t have to submit the task. We will provide you with the solutions, you have to self evaluate the task yourself.\n",
        "Will we do case studies in the program?\n",
        "Yes.\n",
        "Where can we contact you?\n",
        "You can mail us at nitish.campusx@gmail.com\n",
        "Payment/Registration related questions\n",
        "Where do we have to make our payments? Your YouTube channel or website?\n",
        "You have to make all your monthly payments on our website. Here is the link for our website - https://learnwith.campusx.in/\n",
        "Can we pay the entire amount of Rs 5600 all at once?\n",
        "Unfortunately no, the program follows a monthly subscription model.\n",
        "What is the validity of monthly subscription? Suppose if I pay on 15th Jan, then do I have to pay again on 1st Feb or 15th Feb\n",
        "15th Feb. The validity period is 30 days from the day you make the payment. So essentially you can join anytime you don’t have to wait for a month to end.\n",
        "What if I don’t like the course after making the payment. What is the refund policy?\n",
        "You get a 7 days refund period from the day you have made the payment.\n",
        "I am living outside India and I am not able to make the payment on the website, what should I do?\n",
        "You have to contact us by sending a mail at nitish.campusx@gmail.com\n",
        "Post registration queries\n",
        "Till when can I view the paid videos on the website?\n",
        "This one is tricky, so read carefully. You can watch the videos till your subscription is valid. Suppose you have purchased subscription on 21st Jan, you will be able to watch all the past paid sessions in the period of 21st Jan to 20th Feb. But after 21st Feb you will have to purchase the subscription again.\n",
        "But once the course is over and you have paid us Rs 5600(or 7 installments of Rs 799) you will be able to watch the paid sessions till Aug 2024.\n",
        "Why lifetime validity is not provided?\n",
        "Because of the low course fee.\n",
        "Where can I reach out in case of a doubt after the session?\n",
        "You will have to fill a google form provided in your dashboard and our team will contact you for a 1 on 1 doubt clearance session\n",
        "If I join the program late, can I still ask past week doubts?\n",
        "Yes, just select past week doubt in the doubt clearance google form.\n",
        "I am living outside India and I am not able to make the payment on the website, what should I do?\n",
        "You have to contact us by sending a mail at nitish.campusx@gmai.com\n",
        "Certificate and Placement Assistance related queries\n",
        "What is the criteria to get the certificate?\n",
        "There are 2 criterias:\n",
        "You have to pay the entire fee of Rs 5600\n",
        "You have to attempt all the course assessments.\n",
        "I am joining late. How can I pay payment of the earlier months?\n",
        "You will get a link to pay fee of earlier months in your dashboard once you pay for the current month.\n",
        "I have read that Placement assistance is a part of this program. What comes under Placement assistance?\n",
        "This is to clarify that Placement assistance does not mean Placement guarantee. So we dont guarantee you any jobs or for that matter even interview calls. So if you are planning to join this course just for placements, I am afraid you will be disappointed. Here is what comes under placement assistance\n",
        "Portfolio Building sessions\n",
        "Soft skill sessions\n",
        "Sessions with industry mentors\n",
        "Discussion on Job hunting strategies\n",
        "\"\"\""
      ]
    },
    {
      "cell_type": "code",
      "execution_count": null,
      "metadata": {
        "id": "_Jel15W3D6R5"
      },
      "outputs": [],
      "source": [
        "faqs1 = \"\"\"When you tag a face in a Facebook photo, it is AI that is running behind the scenes and\n",
        "identifying faces in a picture. Face tagging is now omnipresent in several applications that\n",
        "display pictures with human faces. Why just human faces? There are several applications\n",
        "that detect objects such as cats, dogs, bottles, cars, etc. We have autonomous cars\n",
        "running on our roads that detect objects in real time to steer the car. When you travel,\n",
        "you use Google Directions to learn the real-time traffic situations and follow the best path\n",
        "suggested by Google at that point of time. This is yet another implementation of object\n",
        "detection technique in real time.\n",
        "Let us consider the example of Google Translate application that we typically use while\n",
        "visiting foreign countries. Google’s online translator app on your mobile helps you\n",
        "communicate with the local people speaking a language that is foreign to you.\n",
        "There are several applications of AI that we use practically today. In fact, each one of us\n",
        "use AI in many parts of our lives, even without our knowledge. Today’s AI can perform\n",
        "extremely complex jobs with a great accuracy and speed. Let us discuss an example of\n",
        "complex task to understand what capabilities are expected in an AI application that you\n",
        "would be developing today for your clients.\n",
        "\"\"\""
      ]
    },
    {
      "cell_type": "code",
      "execution_count": null,
      "metadata": {
        "id": "J1D42emD32Ro"
      },
      "outputs": [],
      "source": [
        "import tensorflow as tf\n",
        "from tensorflow.keras.preprocessing.text import Tokenizer"
      ]
    },
    {
      "cell_type": "code",
      "execution_count": null,
      "metadata": {
        "id": "KhtDxwL_AXFj"
      },
      "outputs": [],
      "source": [
        "tokenizer = Tokenizer()"
      ]
    },
    {
      "cell_type": "code",
      "execution_count": null,
      "metadata": {
        "id": "K8MRFre9AaG9"
      },
      "outputs": [],
      "source": [
        "tokenizer.fit_on_texts([faqs1])"
      ]
    },
    {
      "cell_type": "code",
      "execution_count": null,
      "metadata": {
        "colab": {
          "base_uri": "https://localhost:8080/"
        },
        "id": "YrpAl3EDAgvh",
        "outputId": "0da9baf5-0b4e-4f7e-9fd1-8d68ef5e2578"
      },
      "outputs": [
        {
          "output_type": "execute_result",
          "data": {
            "text/plain": [
              "130"
            ]
          },
          "metadata": {},
          "execution_count": 6
        }
      ],
      "source": [
        "len(tokenizer.word_index)"
      ]
    },
    {
      "cell_type": "code",
      "execution_count": null,
      "metadata": {
        "id": "44VahqKdAjr9",
        "colab": {
          "base_uri": "https://localhost:8080/"
        },
        "outputId": "3abf7b78-8bc1-46b0-e4a9-16ba54fba47d"
      },
      "outputs": [
        {
          "output_type": "stream",
          "name": "stdout",
          "text": [
            "tokenized_sentences\n",
            "tokenized_sentence\n",
            "tokenized_sentence\n",
            "tokenized_sentence\n",
            "tokenized_sentence\n",
            "tokenized_sentence\n",
            "tokenized_sentence\n",
            "tokenized_sentence\n",
            "tokenized_sentence\n",
            "tokenized_sentence\n",
            "tokenized_sentence\n",
            "tokenized_sentence\n",
            "tokenized_sentence\n",
            "tokenized_sentence\n",
            "tokenized_sentence\n",
            "tokenized_sentence\n",
            "tokenized_sentence\n",
            "tokenized_sentence\n"
          ]
        }
      ],
      "source": [
        "input_sequences = []\n",
        "print(\"tokenized_sentences\")\n",
        "for sentence in faqs1.split('\\n'):\n",
        "  tokenized_sentence = tokenizer.texts_to_sequences([sentence])[0]\n",
        "  print(\"tokenized_sentence\")\n",
        "\n",
        "  for i in range(1,len(tokenized_sentence)):\n",
        "    input_sequences.append(tokenized_sentence[:i+1])"
      ]
    },
    {
      "cell_type": "code",
      "execution_count": null,
      "metadata": {
        "colab": {
          "base_uri": "https://localhost:8080/"
        },
        "id": "UyqwPDzNA5mR",
        "outputId": "874fa364-f3c7-4a61-d6b8-94c820decf27"
      },
      "outputs": [
        {
          "output_type": "execute_result",
          "data": {
            "text/plain": [
              "[[23, 4],\n",
              " [23, 4, 40],\n",
              " [23, 4, 40, 6],\n",
              " [23, 4, 40, 6, 24],\n",
              " [23, 4, 40, 6, 24, 2],\n",
              " [23, 4, 40, 6, 24, 2, 6],\n",
              " [23, 4, 40, 6, 24, 2, 6, 41],\n",
              " [23, 4, 40, 6, 24, 2, 6, 41, 42],\n",
              " [23, 4, 40, 6, 24, 2, 6, 41, 42, 43],\n",
              " [23, 4, 40, 6, 24, 2, 6, 41, 42, 43, 7],\n",
              " [23, 4, 40, 6, 24, 2, 6, 41, 42, 43, 7, 8],\n",
              " [23, 4, 40, 6, 24, 2, 6, 41, 42, 43, 7, 8, 1],\n",
              " [23, 4, 40, 6, 24, 2, 6, 41, 42, 43, 7, 8, 1, 7],\n",
              " [23, 4, 40, 6, 24, 2, 6, 41, 42, 43, 7, 8, 1, 7, 25],\n",
              " [23, 4, 40, 6, 24, 2, 6, 41, 42, 43, 7, 8, 1, 7, 25, 44],\n",
              " [23, 4, 40, 6, 24, 2, 6, 41, 42, 43, 7, 8, 1, 7, 25, 44, 5],\n",
              " [23, 4, 40, 6, 24, 2, 6, 41, 42, 43, 7, 8, 1, 7, 25, 44, 5, 45],\n",
              " [23, 4, 40, 6, 24, 2, 6, 41, 42, 43, 7, 8, 1, 7, 25, 44, 5, 45, 12],\n",
              " [46, 13],\n",
              " [46, 13, 2],\n",
              " [46, 13, 2, 6],\n",
              " [46, 13, 2, 6, 47],\n",
              " [46, 13, 2, 6, 47, 24],\n",
              " [46, 13, 2, 6, 47, 24, 48],\n",
              " [46, 13, 2, 6, 47, 24, 48, 7],\n",
              " [46, 13, 2, 6, 47, 24, 48, 7, 49],\n",
              " [46, 13, 2, 6, 47, 24, 48, 7, 49, 50],\n",
              " [46, 13, 2, 6, 47, 24, 48, 7, 49, 50, 2],\n",
              " [46, 13, 2, 6, 47, 24, 48, 7, 49, 50, 2, 14],\n",
              " [46, 13, 2, 6, 47, 24, 48, 7, 49, 50, 2, 14, 15],\n",
              " [46, 13, 2, 6, 47, 24, 48, 7, 49, 50, 2, 14, 15, 1],\n",
              " [51, 52],\n",
              " [51, 52, 16],\n",
              " [51, 52, 16, 26],\n",
              " [51, 52, 16, 26, 13],\n",
              " [51, 52, 16, 26, 13, 53],\n",
              " [51, 52, 16, 26, 13, 53, 54],\n",
              " [51, 52, 16, 26, 13, 53, 54, 26],\n",
              " [51, 52, 16, 26, 13, 53, 54, 26, 13],\n",
              " [51, 52, 16, 26, 13, 53, 54, 26, 13, 27],\n",
              " [51, 52, 16, 26, 13, 53, 54, 26, 13, 27, 17],\n",
              " [51, 52, 16, 26, 13, 53, 54, 26, 13, 27, 17, 14],\n",
              " [51, 52, 16, 26, 13, 53, 54, 26, 13, 27, 17, 14, 15],\n",
              " [1, 28],\n",
              " [1, 28, 29],\n",
              " [1, 28, 29, 55],\n",
              " [1, 28, 29, 55, 56],\n",
              " [1, 28, 29, 55, 56, 57],\n",
              " [1, 28, 29, 55, 56, 57, 58],\n",
              " [1, 28, 29, 55, 56, 57, 58, 59],\n",
              " [1, 28, 29, 55, 56, 57, 58, 59, 30],\n",
              " [1, 28, 29, 55, 56, 57, 58, 59, 30, 60],\n",
              " [1, 28, 29, 55, 56, 57, 58, 59, 30, 60, 18],\n",
              " [1, 28, 29, 55, 56, 57, 58, 59, 30, 60, 18, 61],\n",
              " [1, 28, 29, 55, 56, 57, 58, 59, 30, 60, 18, 61, 62],\n",
              " [1, 28, 29, 55, 56, 57, 58, 59, 30, 60, 18, 61, 62, 30],\n",
              " [25, 31],\n",
              " [25, 31, 19],\n",
              " [25, 31, 19, 63],\n",
              " [25, 31, 19, 63, 1],\n",
              " [25, 31, 19, 63, 1, 28],\n",
              " [25, 31, 19, 63, 1, 28, 29],\n",
              " [25, 31, 19, 63, 1, 28, 29, 2],\n",
              " [25, 31, 19, 63, 1, 28, 29, 2, 20],\n",
              " [25, 31, 19, 63, 1, 28, 29, 2, 20, 9],\n",
              " [25, 31, 19, 63, 1, 28, 29, 2, 20, 9, 10],\n",
              " [25, 31, 19, 63, 1, 28, 29, 2, 20, 9, 10, 64],\n",
              " [25, 31, 19, 63, 1, 28, 29, 2, 20, 9, 10, 64, 5],\n",
              " [25, 31, 19, 63, 1, 28, 29, 2, 20, 9, 10, 64, 5, 65],\n",
              " [25, 31, 19, 63, 1, 28, 29, 2, 20, 9, 10, 64, 5, 65, 23],\n",
              " [25, 31, 19, 63, 1, 28, 29, 2, 20, 9, 10, 64, 5, 65, 23, 4],\n",
              " [25, 31, 19, 63, 1, 28, 29, 2, 20, 9, 10, 64, 5, 65, 23, 4, 66],\n",
              " [4, 11],\n",
              " [4, 11, 21],\n",
              " [4, 11, 21, 67],\n",
              " [4, 11, 21, 67, 10],\n",
              " [4, 11, 21, 67, 10, 68],\n",
              " [4, 11, 21, 67, 10, 68, 5],\n",
              " [4, 11, 21, 67, 10, 68, 5, 20],\n",
              " [4, 11, 21, 67, 10, 68, 5, 20, 9],\n",
              " [4, 11, 21, 67, 10, 68, 5, 20, 9, 69],\n",
              " [4, 11, 21, 67, 10, 68, 5, 20, 9, 69, 70],\n",
              " [4, 11, 21, 67, 10, 68, 5, 20, 9, 69, 70, 12],\n",
              " [4, 11, 21, 67, 10, 68, 5, 20, 9, 69, 70, 12, 71],\n",
              " [4, 11, 21, 67, 10, 68, 5, 20, 9, 69, 70, 12, 71, 5],\n",
              " [4, 11, 21, 67, 10, 68, 5, 20, 9, 69, 70, 12, 71, 5, 72],\n",
              " [4, 11, 21, 67, 10, 68, 5, 20, 9, 69, 70, 12, 71, 5, 72, 73],\n",
              " [74, 75],\n",
              " [74, 75, 21],\n",
              " [74, 75, 21, 76],\n",
              " [74, 75, 21, 76, 1],\n",
              " [74, 75, 21, 76, 1, 77],\n",
              " [74, 75, 21, 76, 1, 77, 3],\n",
              " [74, 75, 21, 76, 1, 77, 3, 9],\n",
              " [74, 75, 21, 76, 1, 77, 3, 9, 78],\n",
              " [74, 75, 21, 76, 1, 77, 3, 9, 78, 7],\n",
              " [74, 75, 21, 76, 1, 77, 3, 9, 78, 7, 79],\n",
              " [74, 75, 21, 76, 1, 77, 3, 9, 78, 7, 79, 80],\n",
              " [74, 75, 21, 76, 1, 77, 3, 9, 78, 7, 79, 80, 81],\n",
              " [74, 75, 21, 76, 1, 77, 3, 9, 78, 7, 79, 80, 81, 3],\n",
              " [74, 75, 21, 76, 1, 77, 3, 9, 78, 7, 79, 80, 81, 3, 82],\n",
              " [83, 84],\n",
              " [83, 84, 2],\n",
              " [83, 84, 2, 20],\n",
              " [83, 84, 2, 20, 9],\n",
              " [32, 22],\n",
              " [32, 22, 85],\n",
              " [32, 22, 85, 5],\n",
              " [32, 22, 85, 5, 33],\n",
              " [32, 22, 85, 5, 33, 3],\n",
              " [32, 22, 85, 5, 33, 3, 21],\n",
              " [32, 22, 85, 5, 33, 3, 21, 86],\n",
              " [32, 22, 85, 5, 33, 3, 21, 86, 34],\n",
              " [32, 22, 85, 5, 33, 3, 21, 86, 34, 1],\n",
              " [32, 22, 85, 5, 33, 3, 21, 86, 34, 1, 18],\n",
              " [32, 22, 85, 5, 33, 3, 21, 86, 34, 1, 18, 87],\n",
              " [32, 22, 85, 5, 33, 3, 21, 86, 34, 1, 18, 87, 11],\n",
              " [32, 22, 85, 5, 33, 3, 21, 86, 34, 1, 18, 87, 11, 88],\n",
              " [89, 35],\n",
              " [89, 35, 90],\n",
              " [89, 35, 90, 91],\n",
              " [89, 35, 90, 91, 92],\n",
              " [89, 35, 90, 91, 92, 93],\n",
              " [89, 35, 90, 91, 92, 93, 94],\n",
              " [89, 35, 90, 91, 92, 93, 94, 31],\n",
              " [89, 35, 90, 91, 92, 93, 94, 31, 36],\n",
              " [89, 35, 90, 91, 92, 93, 94, 31, 36, 95],\n",
              " [89, 35, 90, 91, 92, 93, 94, 31, 36, 95, 96],\n",
              " [89, 35, 90, 91, 92, 93, 94, 31, 36, 95, 96, 4],\n",
              " [97, 16],\n",
              " [97, 16, 5],\n",
              " [97, 16, 5, 98],\n",
              " [97, 16, 5, 98, 99],\n",
              " [97, 16, 5, 98, 99, 100],\n",
              " [97, 16, 5, 98, 99, 100, 6],\n",
              " [97, 16, 5, 98, 99, 100, 6, 101],\n",
              " [97, 16, 5, 98, 99, 100, 6, 101, 1],\n",
              " [97, 16, 5, 98, 99, 100, 6, 101, 1, 7],\n",
              " [97, 16, 5, 98, 99, 100, 6, 101, 1, 7, 35],\n",
              " [97, 16, 5, 98, 99, 100, 6, 101, 1, 7, 35, 10],\n",
              " [97, 16, 5, 98, 99, 100, 6, 101, 1, 7, 35, 10, 4],\n",
              " [27, 17],\n",
              " [27, 17, 14],\n",
              " [27, 17, 14, 15],\n",
              " [27, 17, 14, 15, 3],\n",
              " [27, 17, 14, 15, 3, 8],\n",
              " [27, 17, 14, 15, 3, 8, 1],\n",
              " [27, 17, 14, 15, 3, 8, 1, 18],\n",
              " [27, 17, 14, 15, 3, 8, 1, 18, 11],\n",
              " [27, 17, 14, 15, 3, 8, 1, 18, 11, 102],\n",
              " [27, 17, 14, 15, 3, 8, 1, 18, 11, 102, 37],\n",
              " [27, 17, 14, 15, 3, 8, 1, 18, 11, 102, 37, 2],\n",
              " [27, 17, 14, 15, 3, 8, 1, 18, 11, 102, 37, 2, 103],\n",
              " [27, 17, 14, 15, 3, 8, 1, 18, 11, 102, 37, 2, 103, 104],\n",
              " [27, 17, 14, 15, 3, 8, 1, 18, 11, 102, 37, 2, 103, 104, 105],\n",
              " [27, 17, 14, 15, 3, 8, 1, 18, 11, 102, 37, 2, 103, 104, 105, 3],\n",
              " [27, 17, 14, 15, 3, 8, 1, 18, 11, 102, 37, 2, 103, 104, 105, 3, 22],\n",
              " [11, 8],\n",
              " [11, 8, 2],\n",
              " [11, 8, 2, 106],\n",
              " [11, 8, 2, 106, 107],\n",
              " [11, 8, 2, 106, 107, 3],\n",
              " [11, 8, 2, 106, 107, 3, 19],\n",
              " [11, 8, 2, 106, 107, 3, 19, 108],\n",
              " [11, 8, 2, 106, 107, 3, 19, 108, 109],\n",
              " [11, 8, 2, 106, 107, 3, 19, 108, 109, 110],\n",
              " [11, 8, 2, 106, 107, 3, 19, 108, 109, 110, 19],\n",
              " [11, 8, 2, 106, 107, 3, 19, 108, 109, 110, 19, 111],\n",
              " [11, 8, 2, 106, 107, 3, 19, 108, 109, 110, 19, 111, 112],\n",
              " [11, 8, 2, 106, 107, 3, 19, 108, 109, 110, 19, 111, 112, 8],\n",
              " [11, 8, 2, 106, 107, 3, 19, 108, 109, 110, 19, 111, 112, 8, 113],\n",
              " [11, 8, 2, 106, 107, 3, 19, 108, 109, 110, 19, 111, 112, 8, 113, 114],\n",
              " [115, 38],\n",
              " [115, 38, 116],\n",
              " [115, 38, 116, 16],\n",
              " [115, 38, 116, 16, 6],\n",
              " [115, 38, 116, 16, 6, 117],\n",
              " [115, 38, 116, 16, 6, 117, 118],\n",
              " [115, 38, 116, 16, 6, 117, 118, 12],\n",
              " [115, 38, 116, 16, 6, 117, 118, 12, 119],\n",
              " [115, 38, 116, 16, 6, 117, 118, 12, 119, 32],\n",
              " [115, 38, 116, 16, 6, 117, 118, 12, 119, 32, 22],\n",
              " [115, 38, 116, 16, 6, 117, 118, 12, 119, 32, 22, 120],\n",
              " [115, 38, 116, 16, 6, 117, 118, 12, 119, 32, 22, 120, 39],\n",
              " [115, 38, 116, 16, 6, 117, 118, 12, 119, 32, 22, 120, 39, 33],\n",
              " [115, 38, 116, 16, 6, 117, 118, 12, 119, 32, 22, 120, 39, 33, 3],\n",
              " [38, 121],\n",
              " [38, 121, 10],\n",
              " [38, 121, 10, 122],\n",
              " [38, 121, 10, 122, 123],\n",
              " [38, 121, 10, 122, 123, 124],\n",
              " [38, 121, 10, 122, 123, 124, 17],\n",
              " [38, 121, 10, 122, 123, 124, 17, 125],\n",
              " [38, 121, 10, 122, 123, 124, 17, 125, 2],\n",
              " [38, 121, 10, 122, 123, 124, 17, 125, 2, 39],\n",
              " [38, 121, 10, 122, 123, 124, 17, 125, 2, 39, 8],\n",
              " [38, 121, 10, 122, 123, 124, 17, 125, 2, 39, 8, 34],\n",
              " [38, 121, 10, 122, 123, 124, 17, 125, 2, 39, 8, 34, 1],\n",
              " [38, 121, 10, 122, 123, 124, 17, 125, 2, 39, 8, 34, 1, 4],\n",
              " [126, 127],\n",
              " [126, 127, 128],\n",
              " [126, 127, 128, 37],\n",
              " [126, 127, 128, 37, 129],\n",
              " [126, 127, 128, 37, 129, 36],\n",
              " [126, 127, 128, 37, 129, 36, 130]]"
            ]
          },
          "metadata": {},
          "execution_count": 8
        }
      ],
      "source": [
        "input_sequences"
      ]
    },
    {
      "cell_type": "code",
      "execution_count": null,
      "metadata": {
        "id": "CrzbvUUQCXPU"
      },
      "outputs": [],
      "source": [
        "max_len = max([len(x) for x in input_sequences])"
      ]
    },
    {
      "cell_type": "code",
      "execution_count": null,
      "metadata": {
        "id": "9oPMoWBSD1_U"
      },
      "outputs": [],
      "source": [
        "from tensorflow.keras.preprocessing.sequence import pad_sequences\n",
        "padded_input_sequences = pad_sequences(input_sequences, maxlen = max_len, padding='pre')"
      ]
    },
    {
      "cell_type": "code",
      "execution_count": null,
      "metadata": {
        "colab": {
          "base_uri": "https://localhost:8080/"
        },
        "id": "miRb-QZyIi7_",
        "outputId": "d9ea0acf-8011-407a-9e69-44dfe8c95f43"
      },
      "outputs": [
        {
          "output_type": "execute_result",
          "data": {
            "text/plain": [
              "array([[  0,   0,   0, ...,   0,  23,   4],\n",
              "       [  0,   0,   0, ...,  23,   4,  40],\n",
              "       [  0,   0,   0, ...,   4,  40,   6],\n",
              "       ...,\n",
              "       [  0,   0,   0, ..., 128,  37, 129],\n",
              "       [  0,   0,   0, ...,  37, 129,  36],\n",
              "       [  0,   0,   0, ..., 129,  36, 130]], dtype=int32)"
            ]
          },
          "metadata": {},
          "execution_count": 11
        }
      ],
      "source": [
        "padded_input_sequences"
      ]
    },
    {
      "cell_type": "code",
      "execution_count": null,
      "metadata": {
        "id": "qVI0-UUrIsd3"
      },
      "outputs": [],
      "source": [
        "X = padded_input_sequences[:,:-1]"
      ]
    },
    {
      "cell_type": "code",
      "execution_count": null,
      "metadata": {
        "id": "lXrYHTDFI3uE"
      },
      "outputs": [],
      "source": [
        "y = padded_input_sequences[:,-1]"
      ]
    },
    {
      "cell_type": "code",
      "execution_count": null,
      "metadata": {
        "colab": {
          "base_uri": "https://localhost:8080/"
        },
        "id": "kmsFnHx1Qdow",
        "outputId": "318a85da-88f7-4199-ea9d-dd724b0e0d63"
      },
      "outputs": [
        {
          "output_type": "execute_result",
          "data": {
            "text/plain": [
              "(205, 18)"
            ]
          },
          "metadata": {},
          "execution_count": 14
        }
      ],
      "source": [
        "X.shape"
      ]
    },
    {
      "cell_type": "code",
      "execution_count": null,
      "metadata": {
        "colab": {
          "base_uri": "https://localhost:8080/"
        },
        "id": "-wyYqYgZSeck",
        "outputId": "db18c626-2a0c-40de-e2a4-a5368a6e0fc3"
      },
      "outputs": [
        {
          "output_type": "execute_result",
          "data": {
            "text/plain": [
              "(205,)"
            ]
          },
          "metadata": {},
          "execution_count": 15
        }
      ],
      "source": [
        "y.shape"
      ]
    },
    {
      "cell_type": "code",
      "execution_count": null,
      "metadata": {
        "id": "rs1NPitwSgzk"
      },
      "outputs": [],
      "source": [
        "from tensorflow.keras.utils import to_categorical\n",
        "y = to_categorical(y,num_classes=283)"
      ]
    },
    {
      "cell_type": "code",
      "execution_count": null,
      "metadata": {
        "colab": {
          "base_uri": "https://localhost:8080/"
        },
        "id": "iQMJ0I6xSiZf",
        "outputId": "7d54f24c-b657-428c-f05a-1c650adbf01c"
      },
      "outputs": [
        {
          "output_type": "execute_result",
          "data": {
            "text/plain": [
              "(205, 283)"
            ]
          },
          "metadata": {},
          "execution_count": 17
        }
      ],
      "source": [
        "y.shape"
      ]
    },
    {
      "cell_type": "code",
      "execution_count": null,
      "metadata": {
        "id": "9kVeTvR2S8Fk"
      },
      "outputs": [],
      "source": [
        "from tensorflow.keras.models import Sequential\n",
        "from tensorflow.keras.layers import Embedding, LSTM, Dense\n",
        "final_word=[]"
      ]
    },
    {
      "cell_type": "code",
      "execution_count": null,
      "metadata": {
        "id": "wo-OYfHpTK2o"
      },
      "outputs": [],
      "source": [
        "model = Sequential()\n",
        "model.add(Embedding(283, 120, input_length=18))\n",
        "model.add(LSTM(200))\n",
        "#model.add(LSTM(150))\n",
        "model.add(Dense(283, activation='softmax'))"
      ]
    },
    {
      "cell_type": "code",
      "execution_count": null,
      "metadata": {
        "id": "-GGjqh7ue_Yq"
      },
      "outputs": [],
      "source": [
        "model.compile(loss='categorical_crossentropy', optimizer='adam',metrics=['accuracy'])"
      ]
    },
    {
      "cell_type": "code",
      "execution_count": null,
      "metadata": {
        "colab": {
          "base_uri": "https://localhost:8080/"
        },
        "id": "OxxXkrSXfIBv",
        "outputId": "ce3a7c02-7fd7-4f2e-b026-bc9b0d8f4094"
      },
      "outputs": [
        {
          "output_type": "stream",
          "name": "stdout",
          "text": [
            "Model: \"sequential\"\n",
            "_________________________________________________________________\n",
            " Layer (type)                Output Shape              Param #   \n",
            "=================================================================\n",
            " embedding (Embedding)       (None, 18, 120)           33960     \n",
            "                                                                 \n",
            " lstm (LSTM)                 (None, 200)               256800    \n",
            "                                                                 \n",
            " dense (Dense)               (None, 283)               56883     \n",
            "                                                                 \n",
            "=================================================================\n",
            "Total params: 347643 (1.33 MB)\n",
            "Trainable params: 347643 (1.33 MB)\n",
            "Non-trainable params: 0 (0.00 Byte)\n",
            "_________________________________________________________________\n"
          ]
        }
      ],
      "source": [
        "model.summary()"
      ]
    },
    {
      "cell_type": "code",
      "source": [
        "model.fit(X, y, epochs=50)\n"
      ],
      "metadata": {
        "colab": {
          "base_uri": "https://localhost:8080/"
        },
        "id": "4-PMf6Ml4-Bb",
        "outputId": "aec7637f-e51b-47ea-abc2-1e8b66dbdf4e"
      },
      "execution_count": null,
      "outputs": [
        {
          "output_type": "stream",
          "name": "stdout",
          "text": [
            "Epoch 1/50\n",
            "7/7 [==============================] - 4s 74ms/step - loss: 5.6417 - accuracy: 0.0195\n",
            "Epoch 2/50\n",
            "7/7 [==============================] - 1s 72ms/step - loss: 5.5243 - accuracy: 0.0390\n",
            "Epoch 3/50\n",
            "7/7 [==============================] - 1s 70ms/step - loss: 5.0024 - accuracy: 0.0390\n",
            "Epoch 4/50\n",
            "7/7 [==============================] - 1s 98ms/step - loss: 4.7739 - accuracy: 0.0293\n",
            "Epoch 5/50\n",
            "7/7 [==============================] - 1s 89ms/step - loss: 4.6618 - accuracy: 0.0341\n",
            "Epoch 6/50\n",
            "7/7 [==============================] - 0s 47ms/step - loss: 4.6222 - accuracy: 0.0537\n",
            "Epoch 7/50\n",
            "7/7 [==============================] - 0s 43ms/step - loss: 4.5976 - accuracy: 0.0390\n",
            "Epoch 8/50\n",
            "7/7 [==============================] - 0s 47ms/step - loss: 4.5784 - accuracy: 0.0341\n",
            "Epoch 9/50\n",
            "7/7 [==============================] - 0s 44ms/step - loss: 4.5587 - accuracy: 0.0390\n",
            "Epoch 10/50\n",
            "7/7 [==============================] - 0s 47ms/step - loss: 4.5316 - accuracy: 0.0537\n",
            "Epoch 11/50\n",
            "7/7 [==============================] - 0s 48ms/step - loss: 4.4993 - accuracy: 0.0585\n",
            "Epoch 12/50\n",
            "7/7 [==============================] - 0s 45ms/step - loss: 4.4677 - accuracy: 0.0488\n",
            "Epoch 13/50\n",
            "7/7 [==============================] - 0s 44ms/step - loss: 4.4110 - accuracy: 0.0439\n",
            "Epoch 14/50\n",
            "7/7 [==============================] - 0s 43ms/step - loss: 4.3724 - accuracy: 0.0537\n",
            "Epoch 15/50\n",
            "7/7 [==============================] - 0s 44ms/step - loss: 4.3226 - accuracy: 0.0488\n",
            "Epoch 16/50\n",
            "7/7 [==============================] - 0s 42ms/step - loss: 4.2750 - accuracy: 0.0780\n",
            "Epoch 17/50\n",
            "7/7 [==============================] - 0s 45ms/step - loss: 4.2121 - accuracy: 0.0780\n",
            "Epoch 18/50\n",
            "7/7 [==============================] - 0s 46ms/step - loss: 4.1637 - accuracy: 0.0927\n",
            "Epoch 19/50\n",
            "7/7 [==============================] - 0s 45ms/step - loss: 4.1111 - accuracy: 0.0927\n",
            "Epoch 20/50\n",
            "7/7 [==============================] - 0s 47ms/step - loss: 4.0408 - accuracy: 0.1024\n",
            "Epoch 21/50\n",
            "7/7 [==============================] - 0s 45ms/step - loss: 3.9952 - accuracy: 0.1220\n",
            "Epoch 22/50\n",
            "7/7 [==============================] - 0s 42ms/step - loss: 3.9154 - accuracy: 0.1415\n",
            "Epoch 23/50\n",
            "7/7 [==============================] - 0s 47ms/step - loss: 3.8552 - accuracy: 0.1707\n",
            "Epoch 24/50\n",
            "7/7 [==============================] - 0s 46ms/step - loss: 3.7728 - accuracy: 0.1951\n",
            "Epoch 25/50\n",
            "7/7 [==============================] - 0s 42ms/step - loss: 3.6910 - accuracy: 0.1854\n",
            "Epoch 26/50\n",
            "7/7 [==============================] - 0s 46ms/step - loss: 3.5982 - accuracy: 0.2244\n",
            "Epoch 27/50\n",
            "7/7 [==============================] - 0s 46ms/step - loss: 3.5196 - accuracy: 0.2439\n",
            "Epoch 28/50\n",
            "7/7 [==============================] - 0s 45ms/step - loss: 3.4259 - accuracy: 0.2488\n",
            "Epoch 29/50\n",
            "7/7 [==============================] - 0s 43ms/step - loss: 3.3653 - accuracy: 0.2390\n",
            "Epoch 30/50\n",
            "7/7 [==============================] - 0s 42ms/step - loss: 3.2284 - accuracy: 0.3024\n",
            "Epoch 31/50\n",
            "7/7 [==============================] - 0s 47ms/step - loss: 3.1090 - accuracy: 0.3122\n",
            "Epoch 32/50\n",
            "7/7 [==============================] - 0s 44ms/step - loss: 2.9803 - accuracy: 0.3561\n",
            "Epoch 33/50\n",
            "7/7 [==============================] - 0s 42ms/step - loss: 2.8486 - accuracy: 0.3512\n",
            "Epoch 34/50\n",
            "7/7 [==============================] - 0s 47ms/step - loss: 2.7366 - accuracy: 0.3707\n",
            "Epoch 35/50\n",
            "7/7 [==============================] - 0s 46ms/step - loss: 2.6231 - accuracy: 0.3854\n",
            "Epoch 36/50\n",
            "7/7 [==============================] - 0s 45ms/step - loss: 2.5010 - accuracy: 0.4390\n",
            "Epoch 37/50\n",
            "7/7 [==============================] - 0s 46ms/step - loss: 2.3767 - accuracy: 0.5073\n",
            "Epoch 38/50\n",
            "7/7 [==============================] - 0s 44ms/step - loss: 2.2672 - accuracy: 0.5610\n",
            "Epoch 39/50\n",
            "7/7 [==============================] - 0s 45ms/step - loss: 2.1636 - accuracy: 0.5756\n",
            "Epoch 40/50\n",
            "7/7 [==============================] - 0s 47ms/step - loss: 2.0593 - accuracy: 0.6195\n",
            "Epoch 41/50\n",
            "7/7 [==============================] - 0s 48ms/step - loss: 1.9697 - accuracy: 0.6488\n",
            "Epoch 42/50\n",
            "7/7 [==============================] - 0s 45ms/step - loss: 1.8727 - accuracy: 0.6683\n",
            "Epoch 43/50\n",
            "7/7 [==============================] - 0s 47ms/step - loss: 1.7777 - accuracy: 0.7073\n",
            "Epoch 44/50\n",
            "7/7 [==============================] - 0s 43ms/step - loss: 1.6755 - accuracy: 0.7512\n",
            "Epoch 45/50\n",
            "7/7 [==============================] - 0s 46ms/step - loss: 1.5761 - accuracy: 0.7902\n",
            "Epoch 46/50\n",
            "7/7 [==============================] - 0s 47ms/step - loss: 1.4972 - accuracy: 0.8000\n",
            "Epoch 47/50\n",
            "7/7 [==============================] - 0s 41ms/step - loss: 1.4141 - accuracy: 0.8293\n",
            "Epoch 48/50\n",
            "7/7 [==============================] - 0s 44ms/step - loss: 1.3436 - accuracy: 0.8244\n",
            "Epoch 49/50\n",
            "7/7 [==============================] - 0s 44ms/step - loss: 1.2682 - accuracy: 0.8439\n",
            "Epoch 50/50\n",
            "7/7 [==============================] - 0s 45ms/step - loss: 1.2007 - accuracy: 0.8488\n"
          ]
        },
        {
          "output_type": "execute_result",
          "data": {
            "text/plain": [
              "<keras.src.callbacks.History at 0x7b524173d150>"
            ]
          },
          "metadata": {},
          "execution_count": 22
        }
      ]
    },
    {
      "cell_type": "code",
      "execution_count": null,
      "metadata": {
        "colab": {
          "base_uri": "https://localhost:8080/"
        },
        "id": "PGeYGwCMfTus",
        "outputId": "23a42247-2d23-4c12-e4c2-653cdc45903f"
      },
      "outputs": [
        {
          "output_type": "stream",
          "name": "stdout",
          "text": [
            "1/1 [==============================] - 0s 471ms/step\n",
            "There are several\n",
            "1/1 [==============================] - 0s 24ms/step\n",
            "There are several applications\n",
            "1/1 [==============================] - 0s 22ms/step\n",
            "There are several applications of\n",
            "1/1 [==============================] - 0s 22ms/step\n",
            "There are several applications of ai\n",
            "1/1 [==============================] - 0s 23ms/step\n",
            "There are several applications of ai that\n",
            "1/1 [==============================] - 0s 24ms/step\n",
            "There are several applications of ai that we\n",
            "1/1 [==============================] - 0s 25ms/step\n",
            "There are several applications of ai that we use\n",
            "1/1 [==============================] - 0s 37ms/step\n",
            "There are several applications of ai that we use practically\n",
            "1/1 [==============================] - 0s 25ms/step\n",
            "There are several applications of ai that we use practically today\n",
            "1/1 [==============================] - 0s 24ms/step\n",
            "There are several applications of ai that we use practically today in\n"
          ]
        }
      ],
      "source": [
        "import time\n",
        "import numpy as np\n",
        "text = \"There are\"\n",
        "\n",
        "for i in range(10):\n",
        "  # tokenize\n",
        "  token_text = tokenizer.texts_to_sequences([text])[0]\n",
        "  # padding\n",
        "  padded_token_text = pad_sequences([token_text], maxlen=18, padding='pre')\n",
        "  # predict\n",
        "  pos = np.argmax(model.predict(padded_token_text))\n",
        "\n",
        "  for word,index in tokenizer.word_index.items():\n",
        "    if index == pos:\n",
        "      text = text + \" \" + word\n",
        "      print(text)\n",
        "      time.sleep(2)\n",
        "  final_word.append(text)"
      ]
    },
    {
      "cell_type": "code",
      "execution_count": null,
      "metadata": {
        "colab": {
          "base_uri": "https://localhost:8080/"
        },
        "id": "TTxsj-_CjbQW",
        "outputId": "62cced1c-66ce-4194-f349-b35f51dadb2d"
      },
      "outputs": [
        {
          "output_type": "execute_result",
          "data": {
            "text/plain": [
              "{'that': 1,\n",
              " 'in': 2,\n",
              " 'of': 3,\n",
              " 'you': 4,\n",
              " 'the': 5,\n",
              " 'a': 6,\n",
              " 'is': 7,\n",
              " 'ai': 8,\n",
              " 'time': 9,\n",
              " 'to': 10,\n",
              " 'use': 11,\n",
              " 'and': 12,\n",
              " 'faces': 13,\n",
              " 'several': 14,\n",
              " 'applications': 15,\n",
              " 'with': 16,\n",
              " 'are': 17,\n",
              " 'we': 18,\n",
              " 'our': 19,\n",
              " 'real': 20,\n",
              " 'google': 21,\n",
              " 'us': 22,\n",
              " 'when': 23,\n",
              " 'face': 24,\n",
              " 'running': 25,\n",
              " 'human': 26,\n",
              " 'there': 27,\n",
              " 'detect': 28,\n",
              " 'objects': 29,\n",
              " 'cars': 30,\n",
              " 'on': 31,\n",
              " 'let': 32,\n",
              " 'example': 33,\n",
              " 'application': 34,\n",
              " 'foreign': 35,\n",
              " 'your': 36,\n",
              " 'today': 37,\n",
              " 'complex': 38,\n",
              " 'an': 39,\n",
              " 'tag': 40,\n",
              " 'facebook': 41,\n",
              " 'photo': 42,\n",
              " 'it': 43,\n",
              " 'behind': 44,\n",
              " 'scenes': 45,\n",
              " 'identifying': 46,\n",
              " 'picture': 47,\n",
              " 'tagging': 48,\n",
              " 'now': 49,\n",
              " 'omnipresent': 50,\n",
              " 'display': 51,\n",
              " 'pictures': 52,\n",
              " 'why': 53,\n",
              " 'just': 54,\n",
              " 'such': 55,\n",
              " 'as': 56,\n",
              " 'cats': 57,\n",
              " 'dogs': 58,\n",
              " 'bottles': 59,\n",
              " 'etc': 60,\n",
              " 'have': 61,\n",
              " 'autonomous': 62,\n",
              " 'roads': 63,\n",
              " 'steer': 64,\n",
              " 'car': 65,\n",
              " 'travel': 66,\n",
              " 'directions': 67,\n",
              " 'learn': 68,\n",
              " 'traffic': 69,\n",
              " 'situations': 70,\n",
              " 'follow': 71,\n",
              " 'best': 72,\n",
              " 'path': 73,\n",
              " 'suggested': 74,\n",
              " 'by': 75,\n",
              " 'at': 76,\n",
              " 'point': 77,\n",
              " 'this': 78,\n",
              " 'yet': 79,\n",
              " 'another': 80,\n",
              " 'implementation': 81,\n",
              " 'object': 82,\n",
              " 'detection': 83,\n",
              " 'technique': 84,\n",
              " 'consider': 85,\n",
              " 'translate': 86,\n",
              " 'typically': 87,\n",
              " 'while': 88,\n",
              " 'visiting': 89,\n",
              " 'countries': 90,\n",
              " 'google’s': 91,\n",
              " 'online': 92,\n",
              " 'translator': 93,\n",
              " 'app': 94,\n",
              " 'mobile': 95,\n",
              " 'helps': 96,\n",
              " 'communicate': 97,\n",
              " 'local': 98,\n",
              " 'people': 99,\n",
              " 'speaking': 100,\n",
              " 'language': 101,\n",
              " 'practically': 102,\n",
              " 'fact': 103,\n",
              " 'each': 104,\n",
              " 'one': 105,\n",
              " 'many': 106,\n",
              " 'parts': 107,\n",
              " 'lives': 108,\n",
              " 'even': 109,\n",
              " 'without': 110,\n",
              " 'knowledge': 111,\n",
              " 'today’s': 112,\n",
              " 'can': 113,\n",
              " 'perform': 114,\n",
              " 'extremely': 115,\n",
              " 'jobs': 116,\n",
              " 'great': 117,\n",
              " 'accuracy': 118,\n",
              " 'speed': 119,\n",
              " 'discuss': 120,\n",
              " 'task': 121,\n",
              " 'understand': 122,\n",
              " 'what': 123,\n",
              " 'capabilities': 124,\n",
              " 'expected': 125,\n",
              " 'would': 126,\n",
              " 'be': 127,\n",
              " 'developing': 128,\n",
              " 'for': 129,\n",
              " 'clients': 130}"
            ]
          },
          "metadata": {},
          "execution_count": 24
        }
      ],
      "source": [
        "tokenizer.word_index"
      ]
    }
  ]
}